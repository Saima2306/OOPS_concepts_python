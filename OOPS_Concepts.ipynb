{
 "cells": [
  {
   "cell_type": "markdown",
   "id": "2623c3be",
   "metadata": {},
   "source": [
    "# Atm software"
   ]
  },
  {
   "cell_type": "code",
   "execution_count": 2,
   "id": "67876f33",
   "metadata": {},
   "outputs": [
    {
     "name": "stdout",
     "output_type": "stream",
     "text": [
      "Hello, how would you like to proceed\n",
      "                         1.Enter 1 to create pin\n",
      "                         2.Enter 2 to deposit\n",
      "                         3.Enter 3 to withdraw\n",
      "                         4.enter 4 to check balance\n",
      "                         4. enter5 to exit1\n",
      "Enter the pin1234\n",
      "pin set successfully\n",
      "Hello, how would you like to proceed\n",
      "                         1.Enter 1 to create pin\n",
      "                         2.Enter 2 to deposit\n",
      "                         3.Enter 3 to withdraw\n",
      "                         4.enter 4 to check balance\n",
      "                         4. enter5 to exit2\n",
      "enter the pin1234\n",
      "enter the amount3000\n",
      "deposited successfully\n",
      "Hello, how would you like to proceed\n",
      "                         1.Enter 1 to create pin\n",
      "                         2.Enter 2 to deposit\n",
      "                         3.Enter 3 to withdraw\n",
      "                         4.enter 4 to check balance\n",
      "                         4. enter5 to exit4\n",
      "enter the pin1234\n",
      "3000\n",
      "Hello, how would you like to proceed\n",
      "                         1.Enter 1 to create pin\n",
      "                         2.Enter 2 to deposit\n",
      "                         3.Enter 3 to withdraw\n",
      "                         4.enter 4 to check balance\n",
      "                         4. enter5 to exit5\n",
      "exitited successfully \n",
      "\n"
     ]
    }
   ],
   "source": [
    "class Atm:\n",
    "    def __init__(self):\n",
    "        self.pin=\"\"\n",
    "        self.balance = 0\n",
    "        self.menu()\n",
    "    def menu(self):\n",
    "        user_input=input(\"\"\"Hello, how would you like to proceed\n",
    "                         1.Enter 1 to create pin\n",
    "                         2.Enter 2 to deposit\n",
    "                         3.Enter 3 to withdraw\n",
    "                         4.enter 4 to check balance\n",
    "                         4. enter5 to exit\"\"\")\n",
    "        if user_input == \"1\":\n",
    "            self.create_pin()\n",
    "        elif user_input == \"2\":\n",
    "            self.deposit()\n",
    "        elif user_input == \"3\":\n",
    "            self.withdraw()\n",
    "        elif user_input == \"4\":\n",
    "            self.check_balance()\n",
    "        else:\n",
    "            print(\"exitited successfully \\n\")\n",
    "    def create_pin(self):\n",
    "        self.pin = input(\"Enter the pin\")\n",
    "        print(\"pin set successfully\")\n",
    "        self.menu()\n",
    "    def deposit(self):\n",
    "        temp = input(\"enter the pin\")\n",
    "        if temp == self.pin:\n",
    "            amount = int(input(\"enter the amount\"))\n",
    "            self.balance +=amount\n",
    "            print(\"deposited successfully\")\n",
    "        else:\n",
    "            print(\"invalid pin\")\n",
    "        self.menu()\n",
    "    def withdraw(self):\n",
    "        temp = input(\"Enter the pin\")\n",
    "        if temp == self.pin:\n",
    "            amount = int(input(\"enter the amount\"))\n",
    "            if amount < self.balance:\n",
    "                self.balance-=amount\n",
    "                print(\"Withdrawn succeessfully\")\n",
    "            else:\n",
    "                print(\"not enough balance\")\n",
    "        else:\n",
    "            print(\"invalid pin\")\n",
    "        self.menu()\n",
    "    def check_balance(self):\n",
    "        temp = input(\"enter the pin\")\n",
    "        if temp == self.pin:\n",
    "            print(self.balance)\n",
    "        else:\n",
    "            print(\"invalid pin\")\n",
    "        self.menu()\n",
    "        \n",
    "atm = Atm()"
   ]
  },
  {
   "cell_type": "code",
   "execution_count": 3,
   "id": "4cf62a1e",
   "metadata": {},
   "outputs": [
    {
     "name": "stdout",
     "output_type": "stream",
     "text": [
      "enter the pin1234\n",
      "enter the amount2700\n",
      "deposited successfully\n",
      "Hello, how would you like to proceed\n",
      "                         1.Enter 1 to create pin\n",
      "                         2.Enter 2 to deposit\n",
      "                         3.Enter 3 to withdraw\n",
      "                         4.enter 4 to check balance\n",
      "                         4. enter5 to exit4\n",
      "enter the pin1234\n",
      "5700\n",
      "Hello, how would you like to proceed\n",
      "                         1.Enter 1 to create pin\n",
      "                         2.Enter 2 to deposit\n",
      "                         3.Enter 3 to withdraw\n",
      "                         4.enter 4 to check balance\n",
      "                         4. enter5 to exit5\n",
      "exitited successfully \n",
      "\n"
     ]
    }
   ],
   "source": [
    "atm.deposit()"
   ]
  },
  {
   "cell_type": "code",
   "execution_count": null,
   "id": "3bc2fca2",
   "metadata": {},
   "outputs": [],
   "source": [
    "atm.withdraw()\n"
   ]
  },
  {
   "cell_type": "code",
   "execution_count": null,
   "id": "918b487c",
   "metadata": {},
   "outputs": [],
   "source": [
    "atm.check_balance()"
   ]
  },
  {
   "cell_type": "markdown",
   "id": "5ea334eb",
   "metadata": {},
   "source": [
    "# Creation of own data type using magic methods in python"
   ]
  },
  {
   "cell_type": "code",
   "execution_count": 4,
   "id": "2e8b0cda",
   "metadata": {},
   "outputs": [
    {
     "name": "stdout",
     "output_type": "stream",
     "text": [
      "5/6\n"
     ]
    }
   ],
   "source": [
    "class Fraction:\n",
    "    def __init__(self,n,d):\n",
    "        self.numerator = n\n",
    "        self. denominator = d\n",
    "    def __str__(self): #  __str__ is automatically called when the object is put inside print functio\n",
    "        return \"{}/{}\".format(self.numerator,self.denominator)\n",
    "a = Fraction(5,6)\n",
    "print(a)"
   ]
  },
  {
   "cell_type": "code",
   "execution_count": null,
   "id": "89a1b73c",
   "metadata": {},
   "outputs": [],
   "source": [
    "b = Fraction(4,5)\n",
    "print(b)"
   ]
  },
  {
   "cell_type": "code",
   "execution_count": 11,
   "id": "08e8d536",
   "metadata": {},
   "outputs": [],
   "source": [
    "class Fraction:\n",
    "    def __init__(self,n,d):\n",
    "        self.numerator = n\n",
    "        self. denominator = d\n",
    "        \n",
    "    def __str__(self): #  __str__ is automatically called when the object is put inside print functio\n",
    "        return \"{}/{}\".format(self.numerator,self.denominator)\n",
    "    \n",
    "    def __add__(self,other): # __add__ is automatically called when the objects are added\n",
    "        temp_numerator = self.numerator* other.denominator + self.denominator * other.numerator\n",
    "        temp_denominator = self.denominator * other.denominator\n",
    "        return \"{}/{}\".format(temp_numerator, temp_denominator)\n",
    "    \n",
    "    def __sub__(self,other): # __sub__ is automatically called when the objects are added\n",
    "        temp_numerator = self.numerator* other.denominator - self.denominator * other.numerator\n",
    "        temp_denominator = self.denominator * other.denominator\n",
    "        return \"{}/{}\".format(temp_numerator, temp_denominator)\n",
    "    \n",
    "    def __mul__(self,other):\n",
    "        temp_num = self.numerator * other.numerator\n",
    "        temp_den = self.denominator * other.denominator\n",
    "        return \"{}/{}\".format(temp_num, temp_den)\n",
    "    \n",
    "    def __truediv_(self, other):\n",
    "        temp_num = self.numerator * other.denominator\n",
    "        temp_den = self.denominator * other.numerator\n",
    "        return \"{}/{}\".format(temp_num, temp_den) \n",
    "        \n"
   ]
  },
  {
   "cell_type": "code",
   "execution_count": 12,
   "id": "2e9d8820",
   "metadata": {},
   "outputs": [
    {
     "name": "stdout",
     "output_type": "stream",
     "text": [
      "5/6\n",
      "4/5\n",
      "49/30\n",
      "1/30\n",
      "20/30\n"
     ]
    },
    {
     "ename": "TypeError",
     "evalue": "unsupported operand type(s) for /: 'Fraction' and 'Fraction'",
     "output_type": "error",
     "traceback": [
      "\u001b[1;31m---------------------------------------------------------------------------\u001b[0m",
      "\u001b[1;31mTypeError\u001b[0m                                 Traceback (most recent call last)",
      "Input \u001b[1;32mIn [12]\u001b[0m, in \u001b[0;36m<cell line: 8>\u001b[1;34m()\u001b[0m\n\u001b[0;32m      6\u001b[0m \u001b[38;5;28mprint\u001b[39m(a\u001b[38;5;241m-\u001b[39mb)\n\u001b[0;32m      7\u001b[0m \u001b[38;5;28mprint\u001b[39m(a\u001b[38;5;241m*\u001b[39mb)\n\u001b[1;32m----> 8\u001b[0m \u001b[38;5;28mprint\u001b[39m(\u001b[43ma\u001b[49m\u001b[38;5;241;43m/\u001b[39;49m\u001b[43mb\u001b[49m)\n",
      "\u001b[1;31mTypeError\u001b[0m: unsupported operand type(s) for /: 'Fraction' and 'Fraction'"
     ]
    }
   ],
   "source": [
    "a = Fraction(5,6)\n",
    "b = Fraction(4,5)\n",
    "print(a)\n",
    "print(b)\n",
    "print(a+b)\n",
    "print(a-b)\n",
    "print(a*b)\n",
    "print(a/b)"
   ]
  },
  {
   "cell_type": "markdown",
   "id": "504cb8b9",
   "metadata": {},
   "source": [
    "# Assignments - \n",
    "1. create data type for all operations performed in matrix\n",
    "2. create data type for 2d geometry "
   ]
  },
  {
   "cell_type": "markdown",
   "id": "83601350",
   "metadata": {},
   "source": [
    "## Limiting the access of objects on instance variables and methods by making the instance variables and methods as private"
   ]
  },
  {
   "cell_type": "markdown",
   "id": "9af3b362",
   "metadata": {},
   "source": [
    "## Atm software by making variables private - ENCAPSULATION"
   ]
  },
  {
   "cell_type": "code",
   "execution_count": 28,
   "id": "a03ae93b",
   "metadata": {},
   "outputs": [
    {
     "name": "stdout",
     "output_type": "stream",
     "text": [
      "Hello, how would you like to proceed\n",
      "                         1.Enter 1 to create pin\n",
      "                         2.Enter 2 to deposit\n",
      "                         3.Enter 3 to withdraw\n",
      "                         4.enter 4 to check balance\n",
      "                         4. enter5 to exit1\n",
      "Enter the pin123\n",
      "pin set successfully\n",
      "Hello, how would you like to proceed\n",
      "                         1.Enter 1 to create pin\n",
      "                         2.Enter 2 to deposit\n",
      "                         3.Enter 3 to withdraw\n",
      "                         4.enter 4 to check balance\n",
      "                         4. enter5 to exit\n",
      "exitited successfully \n",
      "\n"
     ]
    }
   ],
   "source": [
    "class Atm:\n",
    "    def __init__(self):\n",
    "        self.__pin=\"\" # __pin means making the instance variables private\n",
    "        self.__balance = 0\n",
    "        self.__menu() # __menu() is used to create the function private\n",
    "        \n",
    "    def __menu(self): # menu function\n",
    "        user_input=input(\"\"\"Hello, how would you like to proceed\n",
    "                         1.Enter 1 to create pin\n",
    "                         2.Enter 2 to deposit\n",
    "                         3.Enter 3 to withdraw\n",
    "                         4.enter 4 to check balance\n",
    "                         4. enter5 to exit\"\"\")\n",
    "        if user_input == \"1\":\n",
    "            self.__create_pin()\n",
    "        elif user_input == \"2\":\n",
    "            self.__deposit()\n",
    "        elif user_input == \"3\":\n",
    "            self.__withdraw()\n",
    "        elif user_input == \"4\":\n",
    "            self.__check_balance()\n",
    "        else:\n",
    "            print(\"exitited successfully \\n\")\n",
    "            \n",
    "    def get_pin(self): # function for getting the pin\n",
    "        return self.__pin\n",
    "    \n",
    "    def set_pin(self,new_pin): # function for setting new values for the pin\n",
    "        if type(new_pin) == str:\n",
    "            self.__pin = new_pin\n",
    "            print(\"Pin changed successfully\")\n",
    "        else:\n",
    "            print(\"Pin not changed\")\n",
    "            \n",
    "        \n",
    "    def __create_pin(self): # function for creating a pin\n",
    "        self.__pin = input(\"Enter the pin\")\n",
    "        print(\"pin set successfully\")\n",
    "        self.__menu()\n",
    "        \n",
    "    def __deposit(self): # function for depositing money in the atm\n",
    "        temp = input(\"enter the pin\")\n",
    "        if temp == self.__pin:\n",
    "            amount = int(input(\"enter the amount\"))\n",
    "            self.__balance +=amount\n",
    "            print(\"deposited successfully\")\n",
    "        else:\n",
    "            print(\"invalid pin\")\n",
    "        #self.menu()\n",
    "        \n",
    "    def __withdraw(self): # function for withdrawing money from the atm\n",
    "        temp = input(\"Enter the pin\")\n",
    "        if temp == self.__pin:\n",
    "            amount = int(input(\"enter the amount\"))\n",
    "            if amount < self.__balance:\n",
    "                self.__balance-=amount\n",
    "                print(\"Withdrawn succeessfully\")\n",
    "            else:\n",
    "                print(\"not enough balance\")\n",
    "        else:\n",
    "            print(\"invalid pin\")\n",
    "       # self.menu()\n",
    "    \n",
    "    def __check_balance(self): # function for checking the balance\n",
    "        temp = input(\"enter the pin\")\n",
    "        if temp == self.__pin:\n",
    "            print(self.__balance)\n",
    "        else:\n",
    "            print(\"invalid pin\")\n",
    "       # self.menu()\n",
    "        \n",
    "atm = Atm()"
   ]
  },
  {
   "cell_type": "code",
   "execution_count": 25,
   "id": "e0af5bb7",
   "metadata": {},
   "outputs": [
    {
     "data": {
      "text/plain": [
       "'123'"
      ]
     },
     "execution_count": 25,
     "metadata": {},
     "output_type": "execute_result"
    }
   ],
   "source": [
    "atm.get_pin()"
   ]
  },
  {
   "cell_type": "code",
   "execution_count": 29,
   "id": "32a55865",
   "metadata": {},
   "outputs": [
    {
     "name": "stdout",
     "output_type": "stream",
     "text": [
      "Pin changed successfully\n"
     ]
    }
   ],
   "source": [
    "atm.set_pin(\"12345\")"
   ]
  },
  {
   "cell_type": "code",
   "execution_count": 30,
   "id": "75d9849e",
   "metadata": {},
   "outputs": [
    {
     "data": {
      "text/plain": [
       "'12345'"
      ]
     },
     "execution_count": 30,
     "metadata": {},
     "output_type": "execute_result"
    }
   ],
   "source": [
    "atm.get_pin()\n"
   ]
  },
  {
   "cell_type": "markdown",
   "id": "8115e374",
   "metadata": {},
   "source": [
    "# Pass by reference"
   ]
  },
  {
   "cell_type": "code",
   "execution_count": 42,
   "id": "60cef34e",
   "metadata": {},
   "outputs": [
    {
     "name": "stdout",
     "output_type": "stream",
     "text": [
      "hello Saima ma'am\n",
      "Shanu\n",
      "Shanu\n"
     ]
    }
   ],
   "source": [
    "class Customer:\n",
    "    def __init__(self,name, gender):\n",
    "        self.name = name\n",
    "        self.gender = gender\n",
    "def greet(customer):\n",
    "#     print(id(customer))\n",
    "    if customer.gender == \"Male\":\n",
    "        print(\"hello \" + customer.name + \" sir\")\n",
    "    elif customer.gender == \"Female\":\n",
    "        print(\"hello \" + customer.name + \" ma'am\")\n",
    "        \n",
    "cust = Customer(\"Saima\", \"Female\")\n",
    "# print(id(cust))\n",
    "greet(cust)\n",
    "def check_reference(customer): # by changing the name of object, it is changing the original object\n",
    "    customer.name = \"Shanu\"\n",
    "    print(customer.name)\n",
    "check_reference(cust)\n",
    "print(cust.name)"
   ]
  },
  {
   "cell_type": "markdown",
   "id": "e6da3eef",
   "metadata": {},
   "source": [
    "## Objects of class are mutable like list, dictionary and sets"
   ]
  },
  {
   "cell_type": "code",
   "execution_count": 43,
   "id": "24a22340",
   "metadata": {},
   "outputs": [
    {
     "name": "stdout",
     "output_type": "stream",
     "text": [
      "2967979900160\n",
      "[1, 2, 3, 4, 5]\n",
      "[1, 2, 3, 4]\n"
     ]
    }
   ],
   "source": [
    "def change(L):\n",
    "    print(id(L))\n",
    "    L.append(5)\n",
    "    print(L)\n",
    "L1 = [1,2,3,4]\n",
    "change(L1[:]) # it is always recommended to clone the original list before passing into the function of mutable objects \n",
    "print(L1)"
   ]
  },
  {
   "cell_type": "markdown",
   "id": "3af42f89",
   "metadata": {},
   "source": [
    "# Collection of objects"
   ]
  },
  {
   "cell_type": "code",
   "execution_count": 47,
   "id": "6a640a05",
   "metadata": {},
   "outputs": [
    {
     "name": "stdout",
     "output_type": "stream",
     "text": [
      "I am Saima I am 26\n",
      "I am Salman I am 28\n",
      "I am Gudiya I am 30\n"
     ]
    }
   ],
   "source": [
    "class Customer:\n",
    "    def __init__(self,name, age):\n",
    "        self.name = name\n",
    "        self.age = age\n",
    "    def intro(self):\n",
    "        print(\"I am\",self.name,\"I am\",self.age)\n",
    "c1 = Customer(\"Saima\",26)\n",
    "c2 = Customer(\"Salman\",28)\n",
    "c3 = Customer(\"Gudiya\",30)\n",
    "L = [c1,c2,c3] # series of objects is passed into list\n",
    "for i in L:\n",
    "    i.intro()"
   ]
  },
  {
   "cell_type": "markdown",
   "id": "5d137f52",
   "metadata": {},
   "source": [
    "# Static or class variable keyword"
   ]
  },
  {
   "cell_type": "code",
   "execution_count": 57,
   "id": "cb9e3a59",
   "metadata": {},
   "outputs": [],
   "source": [
    "class Atm:\n",
    "    #static variable \n",
    "    __counter = 1 # making counter as private variable\n",
    "    def __init__(self):\n",
    "        self.__pin=\"\" # __pin means making the instance variables private\n",
    "        self.__balance = 0\n",
    "        #self.__menu() # __menu() is used to create the function private\n",
    "        self.sno = Atm.__counter \n",
    "        Atm.__counter+=1\n",
    "    # @staticmethods\n",
    "    def get_counter(): # static methods doesn't need any self because they are not using any object\n",
    "        return Atm.__counter\n",
    "    def set_counter(new): # static method\n",
    "        if type(new) == int:\n",
    "            Atm.__counter = new\n",
    "        else:\n",
    "            print(\"not allowed\")\n",
    "    "
   ]
  },
  {
   "cell_type": "code",
   "execution_count": 58,
   "id": "46f3ccfc",
   "metadata": {},
   "outputs": [
    {
     "data": {
      "text/plain": [
       "1"
      ]
     },
     "execution_count": 58,
     "metadata": {},
     "output_type": "execute_result"
    }
   ],
   "source": [
    "Atm.get_counter()"
   ]
  },
  {
   "cell_type": "code",
   "execution_count": 59,
   "id": "8cdb015a",
   "metadata": {},
   "outputs": [],
   "source": [
    "Atm.set_counter(5)"
   ]
  },
  {
   "cell_type": "code",
   "execution_count": 60,
   "id": "1690d14c",
   "metadata": {},
   "outputs": [
    {
     "data": {
      "text/plain": [
       "5"
      ]
     },
     "execution_count": 60,
     "metadata": {},
     "output_type": "execute_result"
    }
   ],
   "source": [
    "Atm.get_counter()"
   ]
  },
  {
   "cell_type": "markdown",
   "id": "ee54cdfb",
   "metadata": {},
   "source": [
    "# Aggregation"
   ]
  },
  {
   "cell_type": "code",
   "execution_count": 89,
   "id": "a0ba65cf",
   "metadata": {},
   "outputs": [],
   "source": [
    "class Customer:\n",
    "    \n",
    "    def __init__(self,name,age,address):\n",
    "        self.name = name\n",
    "        self.age = age\n",
    "        self.address = address\n",
    "    def edit_profile(self,new_name,new_city,new_pincode,new_state):\n",
    "        self.name =new_name\n",
    "        self.address.change_address(new_city,new_pincode,new_state)\n",
    "        \n",
    "class Address:\n",
    "    \n",
    "    def __init__(self,city,pincode,state):\n",
    "        self.city = city\n",
    "        self.pincode = pincode\n",
    "        self.state = state\n",
    "        \n",
    "    def change_address(self,new_city,new_pincode,new_state):\n",
    "        self.city = new_city\n",
    "        self.pincode = new_pincode\n",
    "        self.state = new_state\n",
    "        \n",
    "add = Address(\"Bahraich\",271801,\"UP\")\n",
    "cust = Customer(\"saima\",26,add)\n"
   ]
  },
  {
   "cell_type": "code",
   "execution_count": 90,
   "id": "a09ea79e",
   "metadata": {},
   "outputs": [
    {
     "name": "stdout",
     "output_type": "stream",
     "text": [
      "<__main__.Address object at 0x000002B3096B9040>\n"
     ]
    }
   ],
   "source": [
    "print(cust.address)"
   ]
  },
  {
   "cell_type": "code",
   "execution_count": 91,
   "id": "485e939b",
   "metadata": {},
   "outputs": [
    {
     "name": "stdout",
     "output_type": "stream",
     "text": [
      "Bahraich\n"
     ]
    }
   ],
   "source": [
    "print(cust.address.city)"
   ]
  },
  {
   "cell_type": "code",
   "execution_count": 92,
   "id": "70d9e15f",
   "metadata": {},
   "outputs": [],
   "source": [
    "cust.edit_profile(\"Shanu\",\"Nagpur\",123456,\"Maharashtra\")"
   ]
  },
  {
   "cell_type": "code",
   "execution_count": 94,
   "id": "7b128d3c",
   "metadata": {},
   "outputs": [
    {
     "name": "stdout",
     "output_type": "stream",
     "text": [
      "Nagpur\n"
     ]
    }
   ],
   "source": [
    "print(cust.address.city)"
   ]
  },
  {
   "cell_type": "markdown",
   "id": "a752fd64",
   "metadata": {},
   "source": [
    "# Inheritance"
   ]
  },
  {
   "cell_type": "markdown",
   "id": "bd23ce34",
   "metadata": {},
   "source": [
    "## Benefits of inheritance - Code Reusability"
   ]
  },
  {
   "cell_type": "code",
   "execution_count": 95,
   "id": "c2db4bb1",
   "metadata": {},
   "outputs": [],
   "source": [
    "class User:\n",
    "    def login(self):\n",
    "        print(\"login\")\n",
    "    def register(self):\n",
    "        print(\"register\")\n",
    "class Student(User):\n",
    "    def enroll(self):\n",
    "        print(\"enroll\")\n",
    "    def review(self):\n",
    "        print(\"review\")\n",
    "stu = Student()\n"
   ]
  },
  {
   "cell_type": "code",
   "execution_count": 96,
   "id": "2a946d6c",
   "metadata": {},
   "outputs": [
    {
     "name": "stdout",
     "output_type": "stream",
     "text": [
      "login\n"
     ]
    }
   ],
   "source": [
    "stu.login()"
   ]
  },
  {
   "cell_type": "markdown",
   "id": "b27cee0b",
   "metadata": {},
   "source": [
    "##  Example 1. Inheriting constructor"
   ]
  },
  {
   "cell_type": "code",
   "execution_count": 100,
   "id": "cc4df20a",
   "metadata": {},
   "outputs": [
    {
     "name": "stdout",
     "output_type": "stream",
     "text": [
      "inheriting constructor\n",
      "A\n"
     ]
    }
   ],
   "source": [
    "class Phone:\n",
    "    \n",
    "    def __init__(self, price, model, camera):\n",
    "        print(\"inheriting constructor\")\n",
    "        self.price = price\n",
    "        self.model = model\n",
    "        self.camera = camera\n",
    "class Iphone(Phone):\n",
    "    pass\n",
    "c = Iphone(200,\"A\",50)\n",
    "print(c.model)"
   ]
  },
  {
   "cell_type": "markdown",
   "id": "20406f75",
   "metadata": {},
   "source": [
    "## Example 2.Inheriting private members"
   ]
  },
  {
   "cell_type": "markdown",
   "id": "7a9ce130",
   "metadata": {},
   "source": [
    "child object cannot access the private members of the parent class"
   ]
  },
  {
   "cell_type": "markdown",
   "id": "fd2177bb",
   "metadata": {},
   "source": [
    "## Example3. Polymorphism- method overriding\n",
    "if there are more than one function with the same name in parent class and child class, then on calling the function child class function will be executed "
   ]
  },
  {
   "cell_type": "code",
   "execution_count": 102,
   "id": "daf3adda",
   "metadata": {},
   "outputs": [
    {
     "name": "stdout",
     "output_type": "stream",
     "text": [
      "inheriting constructor\n",
      "buying smartphone\n"
     ]
    }
   ],
   "source": [
    "class Phone:\n",
    "    \n",
    "    def __init__(self, price, model, camera):\n",
    "        print(\"inheriting constructor\")\n",
    "        self.price = price\n",
    "        self.model = model\n",
    "        self.camera = camera\n",
    "    def buy(self):\n",
    "        print(\"buying a phone\")\n",
    "class Iphone(Phone):\n",
    "    \n",
    "    def buy(self):\n",
    "        print(\"buying smartphone\")\n",
    "c = Iphone(2000, \"A\",23)\n",
    "c.buy()"
   ]
  },
  {
   "cell_type": "markdown",
   "id": "1b4510fb",
   "metadata": {},
   "source": [
    "## Example 4: Use of Super keyword\n",
    "\n",
    "1. It is executed inside class methods\n",
    "2. It is used to access the methods of parent class having same name\n",
    "3. With super keywords, only methods and constructor of parent class can be accessed and not the attributes"
   ]
  },
  {
   "cell_type": "code",
   "execution_count": 103,
   "id": "f9bfb103",
   "metadata": {},
   "outputs": [
    {
     "name": "stdout",
     "output_type": "stream",
     "text": [
      "inheriting constructor\n",
      "buying smartphone\n",
      "buying a phone\n"
     ]
    }
   ],
   "source": [
    "class Phone:\n",
    "    \n",
    "    def __init__(self, price, model, camera):\n",
    "        print(\"inheriting constructor\")\n",
    "        self.price = price\n",
    "        self.model = model\n",
    "        self.camera = camera\n",
    "    def buy(self):\n",
    "        print(\"buying a phone\")\n",
    "class Iphone(Phone):\n",
    "    \n",
    "    def buy(self):\n",
    "        print(\"buying smartphone\")\n",
    "        super().buy() # super keywork\n",
    "c = Iphone(2000, \"A\",23)\n",
    "c.buy()"
   ]
  },
  {
   "cell_type": "markdown",
   "id": "d8b886f9",
   "metadata": {},
   "source": [
    "\n",
    "## Example 5: use of super keyword for code resuability\n",
    "4. Super keyword is useful for resuability of code from parent class\n",
    "5. Super should be the first statement after constructor"
   ]
  },
  {
   "cell_type": "code",
   "execution_count": 107,
   "id": "cc2de945",
   "metadata": {},
   "outputs": [
    {
     "name": "stdout",
     "output_type": "stream",
     "text": [
      "1st statement to be executed\n",
      "inheriting constructor\n",
      "inside smartphone\n",
      "android\n",
      "2\n"
     ]
    }
   ],
   "source": [
    "class Phone:\n",
    "    \n",
    "    def __init__(self, price, model, camera):\n",
    "        print(\"inheriting constructor\") # 2nd statement\n",
    "        self.price = price\n",
    "        self.model = model\n",
    "        self.camera = camera\n",
    "class Iphone(Phone):\n",
    "    print(\"1st statement to be executed\") # 1st statement\n",
    "    def __init__(self,price,model,camera,os,ram):\n",
    "        super().__init__(price,model,camera) # super should be the first statement\n",
    "        self.os = os\n",
    "        self.ram = ram  \n",
    "        print(\"inside smartphone\") # 3rd statement\n",
    "c = Iphone(2000, \"A\",23,\"android\",2)\n",
    "print(c.os)\n",
    "print(c.ram)"
   ]
  },
  {
   "cell_type": "markdown",
   "id": "88cba056",
   "metadata": {},
   "source": [
    "## Example 6: using self, i can access the parent attributes using self inside the child class"
   ]
  },
  {
   "cell_type": "code",
   "execution_count": 117,
   "id": "55c4d0fc",
   "metadata": {},
   "outputs": [
    {
     "name": "stdout",
     "output_type": "stream",
     "text": [
      "100\n",
      "200\n"
     ]
    }
   ],
   "source": [
    "class Parent:\n",
    "    def __init__(self):\n",
    "        self.num = 100\n",
    "class Child(Parent):\n",
    "    def __init__(self):\n",
    "        super().__init__()\n",
    "        self.val = 200\n",
    "        \n",
    "    def show(self):\n",
    "        print(self.num) # self can access the member of parent in the child class\n",
    "        print(self.val)\n",
    "c = Child()\n",
    "c.show()"
   ]
  },
  {
   "cell_type": "markdown",
   "id": "1a311b31",
   "metadata": {},
   "source": [
    "# Types of Inheritance\n",
    "1. Single level inheritance - single child and single parent\n",
    "2. Multi-level inheritance\n",
    "3. Heirarichat inheritance - one parent and multiple children\n",
    "4. multiple inheritance - one child and 2 parents"
   ]
  },
  {
   "cell_type": "markdown",
   "id": "3e0fd353",
   "metadata": {},
   "source": [
    "## Example1:Multi-level inheritance"
   ]
  },
  {
   "cell_type": "code",
   "execution_count": 121,
   "id": "c16e1a0e",
   "metadata": {},
   "outputs": [
    {
     "name": "stdout",
     "output_type": "stream",
     "text": [
      "inheriting constructor\n",
      "inheriting constructor\n",
      "buying a phone\n",
      "Reviewing a phone\n",
      "Reviewing a phone\n"
     ]
    }
   ],
   "source": [
    "class Product:\n",
    "    def review(self):\n",
    "        print(\"Reviewing a phone\")\n",
    "class Phone(Product):\n",
    "    \n",
    "    def __init__(self, price, model, camera):\n",
    "        print(\"inheriting constructor\")\n",
    "        self.price = price\n",
    "        self.model = model\n",
    "        self.camera = camera\n",
    "    def buy(self):\n",
    "        print(\"buying a phone\")\n",
    "class Smartphone(Phone):\n",
    "    pass\n",
    "c1 = Smartphone(2000,\"A\",20)\n",
    "c2 = Phone(2500, \"B\",20)\n",
    "c1.buy() # smartphone class object can access Phone methods\n",
    "c1.review() # smartphone class object can access Product methods also\n",
    "c2.review()"
   ]
  },
  {
   "cell_type": "markdown",
   "id": "c07ef951",
   "metadata": {},
   "source": [
    "## Example2: Multiple inheritance "
   ]
  },
  {
   "cell_type": "code",
   "execution_count": 122,
   "id": "f14d73c4",
   "metadata": {},
   "outputs": [
    {
     "name": "stdout",
     "output_type": "stream",
     "text": [
      "inheriting constructor\n",
      "inheriting constructor\n",
      "buying a phone\n",
      "Reviewing a phone\n",
      "Reviewing a phone\n"
     ]
    }
   ],
   "source": [
    "class Product:\n",
    "    def review(self):\n",
    "        print(\"Reviewing a phone\")\n",
    "class Phone(Product):\n",
    "    \n",
    "    def __init__(self, price, model, camera):\n",
    "        print(\"inheriting constructor\")\n",
    "        self.price = price\n",
    "        self.model = model\n",
    "        self.camera = camera\n",
    "    def buy(self):\n",
    "        print(\"buying a phone\")\n",
    "class Smartphone(Phone,Product): # here Smartphone has no constructor so Phone's constructor will be invoked as it is written first\n",
    "    pass\n",
    "c1 = Smartphone(2000,\"A\",20)\n",
    "c2 = Phone(2500, \"B\",20)\n",
    "c1.buy() # smartphone class object can access Phone methods\n",
    "c1.review() # smartphone class object can access Product methods also\n",
    "c2.review()"
   ]
  },
  {
   "cell_type": "code",
   "execution_count": 125,
   "id": "62eeb691",
   "metadata": {},
   "outputs": [
    {
     "name": "stdout",
     "output_type": "stream",
     "text": [
      "inheriting constructor\n",
      "buying a phone\n"
     ]
    }
   ],
   "source": [
    "class Product:\n",
    "    def buy(self):\n",
    "        print(\"buying a product\")\n",
    "class Phone(Product):\n",
    "    \n",
    "    def __init__(self, price, model, camera):\n",
    "        print(\"inheriting constructor\")\n",
    "        self.price = price\n",
    "        self.model = model\n",
    "        self.camera = camera\n",
    "    def buy(self):\n",
    "        print(\"buying a phone\")\n",
    "        \n",
    "class Smartphone(Phone, Product): # here Smartphone has no constructor so Phone's constructor will be invoked as it is written first\n",
    "    pass\n",
    "c1 = Smartphone(2000,\"A\",20)\n",
    "c1.buy() # smartphone class object can access Phone methods"
   ]
  },
  {
   "cell_type": "markdown",
   "id": "025fbfbc",
   "metadata": {},
   "source": [
    "# Polymorphism : Method Overloading\n",
    "\n",
    "There is no method overloading exist in python but we can do using default arguments and if there are many functions, we can use function calling to make the function behave in a different manner"
   ]
  },
  {
   "cell_type": "code",
   "execution_count": 128,
   "id": "4c9fdb50",
   "metadata": {},
   "outputs": [
    {
     "name": "stdout",
     "output_type": "stream",
     "text": [
      "Circle 50.24\n",
      "rectangle 6\n"
     ]
    }
   ],
   "source": [
    "class Geometry:\n",
    "    def area(self,a,b=0): #same function is used by using default arguments\n",
    "        if b==0:\n",
    "            print(\"Circle\",3.14*a *a)\n",
    "        else:\n",
    "            print(\"rectangle\",a*b)\n",
    "obj = Geometry()\n",
    "obj.area(4)\n",
    "obj.area(2,3)\n",
    "        "
   ]
  },
  {
   "cell_type": "markdown",
   "id": "48fe3b43",
   "metadata": {},
   "source": [
    "# Polymorphism : Operator Overloading"
   ]
  },
  {
   "cell_type": "code",
   "execution_count": 130,
   "id": "85664092",
   "metadata": {},
   "outputs": [
    {
     "name": "stdout",
     "output_type": "stream",
     "text": [
      "17/12\n"
     ]
    }
   ],
   "source": [
    "x = Fraction(2,3)\n",
    "y = Fraction(3,4)\n",
    "print(x+y)"
   ]
  },
  {
   "cell_type": "code",
   "execution_count": null,
   "id": "828069b8",
   "metadata": {},
   "outputs": [],
   "source": []
  }
 ],
 "metadata": {
  "kernelspec": {
   "display_name": "Python 3 (ipykernel)",
   "language": "python",
   "name": "python3"
  },
  "language_info": {
   "codemirror_mode": {
    "name": "ipython",
    "version": 3
   },
   "file_extension": ".py",
   "mimetype": "text/x-python",
   "name": "python",
   "nbconvert_exporter": "python",
   "pygments_lexer": "ipython3",
   "version": "3.9.12"
  }
 },
 "nbformat": 4,
 "nbformat_minor": 5
}
